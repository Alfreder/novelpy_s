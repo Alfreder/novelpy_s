{
 "cells": [
  {
   "cell_type": "code",
   "execution_count": 3,
   "metadata": {
    "collapsed": true
   },
   "outputs": [],
   "source": [
    "import json\n",
    "import pickle"
   ]
  },
  {
   "cell_type": "code",
   "execution_count": 19,
   "outputs": [
    {
     "name": "stdout",
     "output_type": "stream",
     "text": [
      "mesh_rels_dict: ('D006801', 'D011788'), ('D006291', 'D009369'), ('D009369', 'D011788'), ('D000203', 'D011788'), ('D006291', 'D011788'), ('D006801', 'D012917'), ('D012107', 'D012917'), ('D006801', 'D012107'), ('D009369', 'D012917'), ('D011788', 'D012917'), ('D000203', 'D012917'), ('D006291', 'D012917'), ('D006801', 'D009369'), ('D009369', 'D012107'), ('D000203', 'D012107'), ('D011788', 'D012107'), ('D006291', 'D012107'), ('D000203', 'D006801'), ('D006291', 'D006801'), ('D000203', 'D006291'), ('D000203', 'D009369')\n",
      "<class 'dict'>\n"
     ]
    }
   ],
   "source": [
    "with open('./mesh_rels_dict.json', 'rb') as f2:\n",
    "    mesh_rels_dict = json.load(f2)\n",
    "    print('mesh_rels_dict:', mesh_rels_dict['1986858'])\n",
    "    print(type(mesh_rels_dict))"
   ],
   "metadata": {
    "collapsed": false
   }
  },
  {
   "cell_type": "code",
   "execution_count": 14,
   "outputs": [
    {
     "name": "stdout",
     "output_type": "stream",
     "text": [
      "<class 'dict'>\n"
     ]
    }
   ],
   "source": [
    "with open('./mesh_rels_dict.dat', 'rb') as f2:\n",
    "    mesh_rels_dict = pickle.load(f2)\n",
    "    #print('mesh_rels_dict:', mesh_rels_dict)\n",
    "    print(type(mesh_rels_dict))"
   ],
   "metadata": {
    "collapsed": false
   }
  },
  {
   "cell_type": "code",
   "execution_count": 15,
   "outputs": [
    {
     "name": "stdout",
     "output_type": "stream",
     "text": [
      "111\n"
     ]
    }
   ],
   "source": [
    "json_str = json.dumps(list(mesh_rels_dict))\n",
    "with open('./test_data.json', 'a+') as json_file:\n",
    "    json_file.write(json_str)\n",
    "    print(111)"
   ],
   "metadata": {
    "collapsed": false
   }
  },
  {
   "cell_type": "code",
   "execution_count": null,
   "outputs": [],
   "source": [],
   "metadata": {
    "collapsed": false
   }
  }
 ],
 "metadata": {
  "kernelspec": {
   "display_name": "Python 3",
   "language": "python",
   "name": "python3"
  },
  "language_info": {
   "codemirror_mode": {
    "name": "ipython",
    "version": 2
   },
   "file_extension": ".py",
   "mimetype": "text/x-python",
   "name": "python",
   "nbconvert_exporter": "python",
   "pygments_lexer": "ipython2",
   "version": "2.7.6"
  }
 },
 "nbformat": 4,
 "nbformat_minor": 0
}
